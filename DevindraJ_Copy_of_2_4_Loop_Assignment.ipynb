{
  "nbformat": 4,
  "nbformat_minor": 0,
  "metadata": {
    "colab": {
      "name": "DevindraJ.Copy of 2-4_Loop_Assignment.ipynb",
      "provenance": [],
      "collapsed_sections": [],
      "include_colab_link": true
    },
    "kernelspec": {
      "name": "python3",
      "display_name": "Python 3"
    }
  },
  "cells": [
    {
      "cell_type": "markdown",
      "metadata": {
        "id": "view-in-github",
        "colab_type": "text"
      },
      "source": [
        "<a href=\"https://colab.research.google.com/github/devindrajewth/Summer-22/blob/main/DevindraJ_Copy_of_2_4_Loop_Assignment.ipynb\" target=\"_parent\"><img src=\"https://colab.research.google.com/assets/colab-badge.svg\" alt=\"Open In Colab\"/></a>"
      ]
    },
    {
      "cell_type": "markdown",
      "metadata": {
        "id": "Vgs8Kp4TidFQ"
      },
      "source": [
        "# 2-4 For Loop - Assignment"
      ]
    },
    {
      "cell_type": "markdown",
      "metadata": {
        "id": "_Hq7Ny79iwgD"
      },
      "source": [
        "## 1. Create a list that holds 5 data values. "
      ]
    },
    {
      "cell_type": "code",
      "metadata": {
        "id": "lotvpVpvlKsR"
      },
      "source": [
        "heroes=[\"batman\", \"spiderman\", \"deadpool\", \"robin\", \"nightwing\"]"
      ],
      "execution_count": null,
      "outputs": []
    },
    {
      "cell_type": "code",
      "source": [
        "bands=[\"canned heat\",\"led zeppelin\", \"wham!\", \"aerosmith\",\"the stay cats\"]"
      ],
      "metadata": {
        "id": "Ujx3gCKbWgO6"
      },
      "execution_count": null,
      "outputs": []
    },
    {
      "cell_type": "markdown",
      "metadata": {
        "id": "io_27RSlizno"
      },
      "source": [
        "## 2.\tPrint out those values by using a for loop"
      ]
    },
    {
      "cell_type": "code",
      "metadata": {
        "id": "Dh1o5cAylSHB",
        "colab": {
          "base_uri": "https://localhost:8080/"
        },
        "outputId": "1ddacb86-f871-4ca6-98c0-f1b9fe862660"
      },
      "source": [
        "for hero in heroes:\n",
        "  print(hero)"
      ],
      "execution_count": null,
      "outputs": [
        {
          "output_type": "stream",
          "name": "stdout",
          "text": [
            "batman\n",
            "spiderman\n",
            "deadpool\n",
            "robin\n",
            "nightwing\n"
          ]
        }
      ]
    },
    {
      "cell_type": "code",
      "metadata": {
        "id": "vs8ppR-wlSKL",
        "colab": {
          "base_uri": "https://localhost:8080/"
        },
        "outputId": "e1fe8cc7-25d1-45ec-c31e-2045baaca061"
      },
      "source": [
        "for band in bands:\n",
        "  print(band)"
      ],
      "execution_count": null,
      "outputs": [
        {
          "output_type": "stream",
          "name": "stdout",
          "text": [
            "canned heat\n",
            "led zeppelin\n",
            "wham!\n",
            "aerosmith\n",
            "the stay cats\n"
          ]
        }
      ]
    },
    {
      "cell_type": "markdown",
      "metadata": {
        "id": "DAW8m8IQjRyR"
      },
      "source": [
        "## 3.\tModify your for loop to add a message and print that message for each item in your loop."
      ]
    },
    {
      "cell_type": "code",
      "metadata": {
        "id": "guULMEhrjYtT",
        "colab": {
          "base_uri": "https://localhost:8080/"
        },
        "outputId": "445320e9-37b4-4ac7-e96c-24cd556d7e81"
      },
      "source": [
        "for band in bands:\n",
        "  print(band.title() + \" is one of my favorite bands\\n\" + \"They know how to groove!!\\n\" )"
      ],
      "execution_count": null,
      "outputs": [
        {
          "output_type": "stream",
          "name": "stdout",
          "text": [
            "Aerosmith is one of my favorite bands\n",
            "They know how to groove!!\n",
            "\n",
            "Canned Heat is one of my favorite bands\n",
            "They know how to groove!!\n",
            "\n",
            "Led Zeppelin is one of my favorite bands\n",
            "They know how to groove!!\n",
            "\n",
            "The Stay Cats is one of my favorite bands\n",
            "They know how to groove!!\n",
            "\n",
            "Wham! is one of my favorite bands\n",
            "They know how to groove!!\n",
            "\n"
          ]
        }
      ]
    },
    {
      "cell_type": "markdown",
      "metadata": {
        "id": "Ka84RGy4jmLT"
      },
      "source": [
        "## 4.\tSort your list in alphabetic order."
      ]
    },
    {
      "cell_type": "code",
      "metadata": {
        "id": "34IFFtK4jrg4",
        "colab": {
          "base_uri": "https://localhost:8080/"
        },
        "outputId": "35e5e826-2a64-4e03-8959-c9b5073550ba"
      },
      "source": [
        "print(bands)\n",
        "bands.sort()"
      ],
      "execution_count": null,
      "outputs": [
        {
          "output_type": "stream",
          "name": "stdout",
          "text": [
            "['aerosmith', 'canned heat', 'led zeppelin', 'the stay cats', 'wham!']\n"
          ]
        }
      ]
    },
    {
      "cell_type": "code",
      "source": [
        ""
      ],
      "metadata": {
        "id": "XsMj6_LUWkNl"
      },
      "execution_count": null,
      "outputs": []
    },
    {
      "cell_type": "markdown",
      "metadata": {
        "id": "ZKHwdMnLliFy"
      },
      "source": [
        "##5.\tPrint out the first three elements of your list."
      ]
    },
    {
      "cell_type": "code",
      "metadata": {
        "id": "eXUDZfLOllTT",
        "colab": {
          "base_uri": "https://localhost:8080/"
        },
        "outputId": "f52f17fd-e948-43c0-bd5a-e1b6aafa24b6"
      },
      "source": [
        "print(bands)"
      ],
      "execution_count": null,
      "outputs": [
        {
          "output_type": "stream",
          "name": "stdout",
          "text": [
            "['aerosmith', 'canned heat', 'led zeppelin', 'the stay cats', 'wham!']\n"
          ]
        }
      ]
    },
    {
      "cell_type": "code",
      "metadata": {
        "id": "4oNKGU70llVg",
        "colab": {
          "base_uri": "https://localhost:8080/"
        },
        "outputId": "abec15c4-fab3-4d49-eae0-4f71725b655e"
      },
      "source": [
        "print(bands[0].title())\n",
        "print(bands[1].title())\n",
        "print(bands[2].title())"
      ],
      "execution_count": 62,
      "outputs": [
        {
          "output_type": "stream",
          "name": "stdout",
          "text": [
            "Aerosmith\n",
            "Canned Heat\n",
            "Led Zeppelin\n"
          ]
        }
      ]
    },
    {
      "cell_type": "markdown",
      "metadata": {
        "id": "oedkoLECmv6x"
      },
      "source": [
        "## 6.\tCreate a loop to print the last 2 elements of your list."
      ]
    },
    {
      "cell_type": "code",
      "source": [
        "for band in bands[-2:]:\n",
        "  print(band)"
      ],
      "metadata": {
        "id": "plX4y6IiWrHx",
        "colab": {
          "base_uri": "https://localhost:8080/"
        },
        "outputId": "63311542-6fcd-4199-c9ec-7ab2faa2e562"
      },
      "execution_count": 65,
      "outputs": [
        {
          "output_type": "stream",
          "name": "stdout",
          "text": [
            "the stay cats\n",
            "wham!\n"
          ]
        }
      ]
    },
    {
      "cell_type": "markdown",
      "metadata": {
        "id": "dpa_YOt4jXyo"
      },
      "source": [
        "## 7.\tUse a for loop to print even numbers from 1-20."
      ]
    },
    {
      "cell_type": "code",
      "metadata": {
        "id": "iHaRIrt8llcd",
        "colab": {
          "base_uri": "https://localhost:8080/"
        },
        "outputId": "ae1deb13-dc35-455a-fa02-9d85b1a9d46f"
      },
      "source": [
        "for num in range(0,21,2):\n",
        "  print(num)"
      ],
      "execution_count": 67,
      "outputs": [
        {
          "output_type": "stream",
          "name": "stdout",
          "text": [
            "0\n",
            "2\n",
            "4\n",
            "6\n",
            "8\n",
            "10\n",
            "12\n",
            "14\n",
            "16\n",
            "18\n",
            "20\n"
          ]
        }
      ]
    },
    {
      "cell_type": "code",
      "source": [
        ""
      ],
      "metadata": {
        "id": "h9jqopA2Wt9S"
      },
      "execution_count": null,
      "outputs": []
    }
  ]
}