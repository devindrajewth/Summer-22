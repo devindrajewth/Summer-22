{
  "nbformat": 4,
  "nbformat_minor": 0,
  "metadata": {
    "colab": {
      "name": "Devindra J_copy 2-5 Conditional operators Assignment.ipynb",
      "provenance": [],
      "include_colab_link": true
    },
    "kernelspec": {
      "name": "python3",
      "display_name": "Python 3"
    },
    "language_info": {
      "name": "python"
    }
  },
  "cells": [
    {
      "cell_type": "markdown",
      "metadata": {
        "id": "view-in-github",
        "colab_type": "text"
      },
      "source": [
        "<a href=\"https://colab.research.google.com/github/devindrajewth/Summer-22/blob/main/Devindra_J_copy_2_5_Conditional_operators_Assignment.ipynb\" target=\"_parent\"><img src=\"https://colab.research.google.com/assets/colab-badge.svg\" alt=\"Open In Colab\"/></a>"
      ]
    },
    {
      "cell_type": "markdown",
      "source": [
        "##2-5 Conditional operators and if statements assignment\n"
      ],
      "metadata": {
        "id": "JJNI2qrwqgYB"
      }
    },
    {
      "cell_type": "markdown",
      "source": [
        "## Task 1: Admin user names\n",
        "* Imagine you are writing code that will welcome people to your application on login. Make a list of 5 or more usernames, including an admin account. Loop through the list and print your greeting.\n",
        "* If the admin account logs in, give them a special greeting.  They’re the admin, after all!\n",
        "* Other users can get the generic greeting"
      ],
      "metadata": {
        "id": "mXe7c59GqpEX"
      }
    },
    {
      "cell_type": "code",
      "execution_count": 41,
      "metadata": {
        "id": "TFOFGzWWqSNV",
        "colab": {
          "base_uri": "https://localhost:8080/"
        },
        "outputId": "cfa8ad19-b85d-487c-9855-a26ca0e7fdc4"
      },
      "outputs": [
        {
          "output_type": "stream",
          "name": "stdout",
          "text": [
            "['mrpresident@cuny.edu', 'jessica@gmail.com', 'sara@gmail.com', 'george@gmail.com', 'marvin@gmail.com', 'luke@gmail.com']\n"
          ]
        }
      ],
      "source": [
        "usernames=[\"mrpresident@cuny.edu\",\"jessica@gmail.com\",\"sara@gmail.com\",\"george@gmail.com\",\"marvin@gmail.com\",\"luke@gmail.com\"]\n",
        "\n",
        "print(usernames)\n"
      ]
    },
    {
      "cell_type": "code",
      "source": [
        "for names in usernames:\n",
        "  if names==\"mrpresident@cuny.edu\":\n",
        "    print(names.upper() + \",\" + \"\\nGood Monring Mr. President I hope you are well\\n\")\n",
        "  else:\n",
        "    print(names+ \"\\nHi, after the end of your free week trial would you like to upgrade?\\n\")\n"
      ],
      "metadata": {
        "id": "j3Hr_Lv7qw0I",
        "colab": {
          "base_uri": "https://localhost:8080/"
        },
        "outputId": "abeae4b6-8360-49b0-dc4c-930a6216cac7"
      },
      "execution_count": 55,
      "outputs": [
        {
          "output_type": "stream",
          "name": "stdout",
          "text": [
            "MRPRESIDENT@CUNY.EDU,\n",
            "Good Monring Mr. President I hope you are well\n",
            "\n",
            "jessica@gmail.com\n",
            "Hi, after the end of your free week trial would you like to upgrade?\n",
            "\n",
            "sara@gmail.com\n",
            "Hi, after the end of your free week trial would you like to upgrade?\n",
            "\n",
            "george@gmail.com\n",
            "Hi, after the end of your free week trial would you like to upgrade?\n",
            "\n",
            "marvin@gmail.com\n",
            "Hi, after the end of your free week trial would you like to upgrade?\n",
            "\n",
            "luke@gmail.com\n",
            "Hi, after the end of your free week trial would you like to upgrade?\n",
            "\n"
          ]
        }
      ]
    },
    {
      "cell_type": "code",
      "source": [
        ""
      ],
      "metadata": {
        "id": "OI5G7XhaqxKD"
      },
      "execution_count": null,
      "outputs": []
    },
    {
      "cell_type": "code",
      "source": [
        ""
      ],
      "metadata": {
        "id": "TVQL3gzLq39k"
      },
      "execution_count": null,
      "outputs": []
    },
    {
      "cell_type": "code",
      "source": [
        ""
      ],
      "metadata": {
        "id": "eAG0F5X3q4K_"
      },
      "execution_count": null,
      "outputs": []
    },
    {
      "cell_type": "markdown",
      "source": [
        "##Task 2: Numbers\n",
        "\n",
        "* Store numbers 1-10 in a list\n",
        "* Loop through the list\n",
        "* Use an if-elif-else chain inside your loop to print the ordinal ending for each number – for example – 1st, 2nd, 3rd, 4th, 5th … etc."
      ],
      "metadata": {
        "id": "g3nnh2NJq9gY"
      }
    },
    {
      "cell_type": "code",
      "source": [
        "number=list(range(1,11))\n",
        "print(number)"
      ],
      "metadata": {
        "id": "DwBbjFgTrWps",
        "colab": {
          "base_uri": "https://localhost:8080/"
        },
        "outputId": "5987a356-8c6e-41e2-8fbf-cc31a5f6a1ab"
      },
      "execution_count": 86,
      "outputs": [
        {
          "output_type": "stream",
          "name": "stdout",
          "text": [
            "[1, 2, 3, 4, 5, 6, 7, 8, 9, 10]\n"
          ]
        }
      ]
    },
    {
      "cell_type": "code",
      "source": [
        "for nums in number:\n",
        "  if nums==1:\n",
        "    print(str(nums) + \"st\")\n",
        "  elif nums==2:\n",
        "    print(str(nums)+ \"nd\")\n",
        "  elif nums==3:\n",
        "    print(str(nums)+ \"rd\")\n",
        "  else:\n",
        "    print(str(nums)+\"th\")"
      ],
      "metadata": {
        "id": "hlU__zZFrXAV",
        "colab": {
          "base_uri": "https://localhost:8080/"
        },
        "outputId": "ce39bd9d-8835-4956-f023-2d5ef4cf9ba5"
      },
      "execution_count": 89,
      "outputs": [
        {
          "output_type": "stream",
          "name": "stdout",
          "text": [
            "1st\n",
            "2nd\n",
            "3rd\n",
            "4th\n",
            "5th\n",
            "6th\n",
            "7th\n",
            "8th\n",
            "9th\n",
            "10th\n"
          ]
        }
      ]
    },
    {
      "cell_type": "code",
      "source": [
        ""
      ],
      "metadata": {
        "id": "G-CzFUkKasIN"
      },
      "execution_count": null,
      "outputs": []
    }
  ]
}